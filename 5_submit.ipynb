{
 "cells": [
  {
   "cell_type": "markdown",
   "metadata": {},
   "source": [
    "# 5. Concatenate outputs and submit"
   ]
  },
  {
   "cell_type": "code",
   "execution_count": 13,
   "metadata": {},
   "outputs": [],
   "source": [
    "import pandas as pd\n",
    "import numpy as np\n",
    "import time\n",
    "import matplotlib.pyplot as plt"
   ]
  },
  {
   "cell_type": "code",
   "execution_count": 4,
   "metadata": {},
   "outputs": [],
   "source": [
    "shops = [3, 4, 5, 6, 7, 10, 12, 14, 15, 16, 18, 19, 21, 22, 24, 25, 26, 28, 31, 34, 35, 36, 37, 38, 39, 41, 42, 44, 45, 46, 47, 48, 49, 50, 52, 53, 55, 56, 57, 58, 59]"
   ]
  },
  {
   "cell_type": "code",
   "execution_count": 16,
   "metadata": {},
   "outputs": [],
   "source": [
    "df = pd.read_csv('./data/output/shop_2.csv')"
   ]
  },
  {
   "cell_type": "code",
   "execution_count": 20,
   "metadata": {},
   "outputs": [],
   "source": [
    "df['shop_id'] = df['shop_id'].astype(np.int16)\n",
    "df['item_id'] = df['item_id'].astype(np.int16)"
   ]
  },
  {
   "cell_type": "code",
   "execution_count": 21,
   "metadata": {},
   "outputs": [
    {
     "data": {
      "text/plain": [
       "shop_id      int16\n",
       "item_id      int16\n",
       "0          float64\n",
       "dtype: object"
      ]
     },
     "execution_count": 21,
     "metadata": {},
     "output_type": "execute_result"
    }
   ],
   "source": [
    "df.dtypes"
   ]
  },
  {
   "cell_type": "markdown",
   "metadata": {},
   "source": [
    "## Concatenating all predictions"
   ]
  },
  {
   "cell_type": "code",
   "execution_count": 22,
   "metadata": {},
   "outputs": [
    {
     "name": "stdout",
     "output_type": "stream",
     "text": [
      "1 out of 42\n",
      "2 out of 42\n",
      "3 out of 42\n",
      "4 out of 42\n",
      "5 out of 42\n",
      "6 out of 42\n",
      "7 out of 42\n",
      "8 out of 42\n",
      "9 out of 42\n",
      "10 out of 42\n",
      "11 out of 42\n",
      "12 out of 42\n",
      "13 out of 42\n",
      "14 out of 42\n",
      "15 out of 42\n",
      "16 out of 42\n",
      "17 out of 42\n",
      "18 out of 42\n",
      "19 out of 42\n",
      "20 out of 42\n",
      "21 out of 42\n",
      "22 out of 42\n",
      "23 out of 42\n",
      "24 out of 42\n",
      "25 out of 42\n",
      "26 out of 42\n",
      "27 out of 42\n",
      "28 out of 42\n",
      "29 out of 42\n",
      "30 out of 42\n",
      "31 out of 42\n",
      "32 out of 42\n",
      "33 out of 42\n",
      "34 out of 42\n",
      "35 out of 42\n",
      "36 out of 42\n",
      "37 out of 42\n",
      "38 out of 42\n",
      "39 out of 42\n",
      "40 out of 42\n",
      "41 out of 42\n",
      "42 out of 42\n"
     ]
    }
   ],
   "source": [
    "count = 0\n",
    "for shop in shops:\n",
    "    one_shop = pd.read_csv('./data/output/shop_' + str(shop) + '.csv')\n",
    "    one_shop['shop_id'] = one_shop['shop_id'].astype(np.int16)\n",
    "    one_shop['item_id'] = one_shop['item_id'].astype(np.int16)\n",
    "    df = pd.concat([df, one_shop])\n",
    "    count += 1\n",
    "    print(f'{count} out of {len(shops)}')"
   ]
  },
  {
   "cell_type": "code",
   "execution_count": 24,
   "metadata": {},
   "outputs": [
    {
     "name": "stdout",
     "output_type": "stream",
     "text": [
      "<class 'pandas.core.frame.DataFrame'>\n",
      "Int64Index: 219300 entries, 0 to 5099\n",
      "Data columns (total 3 columns):\n",
      " #   Column   Non-Null Count   Dtype  \n",
      "---  ------   --------------   -----  \n",
      " 0   shop_id  219300 non-null  int16  \n",
      " 1   item_id  219300 non-null  int16  \n",
      " 2   0        219300 non-null  float64\n",
      "dtypes: float64(1), int16(2)\n",
      "memory usage: 4.2 MB\n"
     ]
    }
   ],
   "source": [
    "df.info()"
   ]
  },
  {
   "cell_type": "markdown",
   "metadata": {},
   "source": [
    "## Modify after concatenation test.csv"
   ]
  },
  {
   "cell_type": "code",
   "execution_count": 39,
   "metadata": {},
   "outputs": [],
   "source": [
    "test = pd.read_csv('./data/test.csv')"
   ]
  },
  {
   "cell_type": "code",
   "execution_count": 40,
   "metadata": {},
   "outputs": [],
   "source": [
    "test = test.merge(df, on = ['shop_id', 'item_id'], how = 'left')\n",
    "test.drop(columns = ['shop_id', 'item_id'], inplace = True)\n",
    "test.columns = ['ID', 'item_cnt_month']\n",
    "test.round(4)\n",
    "\n",
    "# I know that most items should be 0 so I would like to change the mode to 0 which is what I'm doing below:\n",
    "test['item_cnt_month'] = test['item_cnt_month'].replace(0.0844, 0)\n",
    "test['item_cnt_month'] = test['item_cnt_month'].replace(0.0845, 0)\n",
    "\n",
    "# had to drop duplicates\n",
    "test_exp.drop_duplicates(inplace=True)\n",
    "\n",
    "# save submission\n",
    "test_exp.to_csv('./data/submission.csv', index = False)"
   ]
  }
 ],
 "metadata": {
  "kernelspec": {
   "display_name": "Python 3",
   "language": "python",
   "name": "python3"
  },
  "language_info": {
   "codemirror_mode": {
    "name": "ipython",
    "version": 3
   },
   "file_extension": ".py",
   "mimetype": "text/x-python",
   "name": "python",
   "nbconvert_exporter": "python",
   "pygments_lexer": "ipython3",
   "version": "3.7.6"
  }
 },
 "nbformat": 4,
 "nbformat_minor": 4
}
